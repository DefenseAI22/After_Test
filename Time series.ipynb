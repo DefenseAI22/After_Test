{
 "cells": [
  {
   "cell_type": "markdown",
   "id": "b9b34aa1-ba04-4799-a32b-90e75aae01d0",
   "metadata": {},
   "source": [
    "### 1. 라이브러리 import"
   ]
  },
  {
   "cell_type": "code",
   "execution_count": 73,
   "id": "80ecd016-288f-4af6-9ba2-921c0834b3ca",
   "metadata": {},
   "outputs": [],
   "source": [
    "# conda install -c conda-forge xgboost libomp\n",
    "import os\n",
    "import joblib\n",
    "import numpy as np\n",
    "import pandas as pd\n",
    "\n",
    "from pathlib import Path\n",
    "from sklearn.model_selection import train_test_split\n",
    "from sklearn.compose import ColumnTransformer\n",
    "from sklearn.pipeline import Pipeline\n",
    "from sklearn.metrics import mean_squared_error\n",
    "from sklearn.preprocessing import OneHotEncoder, LabelEncoder\n",
    "from sklearn.impute import SimpleImputer\n",
    "\n",
    "from xgboost import XGBRegressor\n",
    "from xgboost.callback import EarlyStopping\n",
    "\n",
    "RANDOM_STATE = 42\n",
    "np.random.seed(RANDOM_STATE)"
   ]
  },
  {
   "cell_type": "markdown",
   "id": "1502e7c3-a822-4ce1-ae34-81a22f1f7ee4",
   "metadata": {},
   "source": [
    "### 2. 데이터 로드"
   ]
  },
  {
   "cell_type": "code",
   "execution_count": 62,
   "id": "9dc6fb48-fd17-431d-aaa7-907cbc9b3776",
   "metadata": {},
   "outputs": [
    {
     "name": "stdout",
     "output_type": "stream",
     "text": [
      "Train shape: (1076079, 52)\n",
      "Test  shape: (722740, 52)\n"
     ]
    },
    {
     "data": {
      "text/html": [
       "<div>\n",
       "<style scoped>\n",
       "    .dataframe tbody tr th:only-of-type {\n",
       "        vertical-align: middle;\n",
       "    }\n",
       "\n",
       "    .dataframe tbody tr th {\n",
       "        vertical-align: top;\n",
       "    }\n",
       "\n",
       "    .dataframe thead th {\n",
       "        text-align: right;\n",
       "    }\n",
       "</style>\n",
       "<table border=\"1\" class=\"dataframe\">\n",
       "  <thead>\n",
       "    <tr style=\"text-align: right;\">\n",
       "      <th></th>\n",
       "      <th>num_actv_rev_tl</th>\n",
       "      <th>dti</th>\n",
       "      <th>fico_range_low</th>\n",
       "      <th>funded_amnt</th>\n",
       "      <th>int_rate</th>\n",
       "      <th>grade</th>\n",
       "      <th>emp_title</th>\n",
       "      <th>annual_inc</th>\n",
       "      <th>verification_status_Not Verified</th>\n",
       "      <th>verification_status_Source Verified</th>\n",
       "      <th>...</th>\n",
       "      <th>collections_12_mths_ex_med</th>\n",
       "      <th>spline_segment_1</th>\n",
       "      <th>spline_segment_2</th>\n",
       "      <th>spline_segment_3</th>\n",
       "      <th>spline_segment_4</th>\n",
       "      <th>spline_segment_5</th>\n",
       "      <th>spline_segment_6</th>\n",
       "      <th>spline_segment_7</th>\n",
       "      <th>irr</th>\n",
       "      <th>target</th>\n",
       "    </tr>\n",
       "  </thead>\n",
       "  <tbody>\n",
       "    <tr>\n",
       "      <th>0</th>\n",
       "      <td>6.0</td>\n",
       "      <td>17.74</td>\n",
       "      <td>820.0</td>\n",
       "      <td>16000.0</td>\n",
       "      <td>7.07</td>\n",
       "      <td>0.0</td>\n",
       "      <td>-33.819993</td>\n",
       "      <td>65000.0</td>\n",
       "      <td>True</td>\n",
       "      <td>False</td>\n",
       "      <td>...</td>\n",
       "      <td>0.0</td>\n",
       "      <td>1.0</td>\n",
       "      <td>0.2</td>\n",
       "      <td>0.0</td>\n",
       "      <td>0.0</td>\n",
       "      <td>0.0</td>\n",
       "      <td>0.0</td>\n",
       "      <td>0.0</td>\n",
       "      <td>-26.21</td>\n",
       "      <td>-27.885864</td>\n",
       "    </tr>\n",
       "    <tr>\n",
       "      <th>1</th>\n",
       "      <td>3.0</td>\n",
       "      <td>6.99</td>\n",
       "      <td>700.0</td>\n",
       "      <td>4500.0</td>\n",
       "      <td>10.42</td>\n",
       "      <td>1.0</td>\n",
       "      <td>-19.626818</td>\n",
       "      <td>50000.0</td>\n",
       "      <td>True</td>\n",
       "      <td>False</td>\n",
       "      <td>...</td>\n",
       "      <td>0.0</td>\n",
       "      <td>1.0</td>\n",
       "      <td>0.6</td>\n",
       "      <td>0.4</td>\n",
       "      <td>0.0</td>\n",
       "      <td>0.0</td>\n",
       "      <td>0.0</td>\n",
       "      <td>0.0</td>\n",
       "      <td>10.94</td>\n",
       "      <td>9.461522</td>\n",
       "    </tr>\n",
       "    <tr>\n",
       "      <th>2</th>\n",
       "      <td>10.0</td>\n",
       "      <td>28.94</td>\n",
       "      <td>675.0</td>\n",
       "      <td>20000.0</td>\n",
       "      <td>9.99</td>\n",
       "      <td>1.0</td>\n",
       "      <td>-11.726184</td>\n",
       "      <td>60000.0</td>\n",
       "      <td>False</td>\n",
       "      <td>True</td>\n",
       "      <td>...</td>\n",
       "      <td>0.0</td>\n",
       "      <td>1.0</td>\n",
       "      <td>0.6</td>\n",
       "      <td>0.4</td>\n",
       "      <td>0.0</td>\n",
       "      <td>0.0</td>\n",
       "      <td>0.0</td>\n",
       "      <td>0.0</td>\n",
       "      <td>10.46</td>\n",
       "      <td>9.450318</td>\n",
       "    </tr>\n",
       "    <tr>\n",
       "      <th>3</th>\n",
       "      <td>13.0</td>\n",
       "      <td>17.69</td>\n",
       "      <td>660.0</td>\n",
       "      <td>30000.0</td>\n",
       "      <td>19.99</td>\n",
       "      <td>3.0</td>\n",
       "      <td>-30.077115</td>\n",
       "      <td>65000.0</td>\n",
       "      <td>False</td>\n",
       "      <td>False</td>\n",
       "      <td>...</td>\n",
       "      <td>0.0</td>\n",
       "      <td>1.0</td>\n",
       "      <td>0.0</td>\n",
       "      <td>0.0</td>\n",
       "      <td>0.4</td>\n",
       "      <td>0.6</td>\n",
       "      <td>0.0</td>\n",
       "      <td>0.0</td>\n",
       "      <td>-38.15</td>\n",
       "      <td>-39.139500</td>\n",
       "    </tr>\n",
       "    <tr>\n",
       "      <th>4</th>\n",
       "      <td>3.0</td>\n",
       "      <td>9.70</td>\n",
       "      <td>675.0</td>\n",
       "      <td>6025.0</td>\n",
       "      <td>8.46</td>\n",
       "      <td>0.0</td>\n",
       "      <td>-21.393000</td>\n",
       "      <td>50000.0</td>\n",
       "      <td>False</td>\n",
       "      <td>True</td>\n",
       "      <td>...</td>\n",
       "      <td>0.0</td>\n",
       "      <td>1.0</td>\n",
       "      <td>0.8</td>\n",
       "      <td>0.0</td>\n",
       "      <td>0.0</td>\n",
       "      <td>0.0</td>\n",
       "      <td>0.0</td>\n",
       "      <td>0.0</td>\n",
       "      <td>8.80</td>\n",
       "      <td>5.861043</td>\n",
       "    </tr>\n",
       "  </tbody>\n",
       "</table>\n",
       "<p>5 rows × 52 columns</p>\n",
       "</div>"
      ],
      "text/plain": [
       "   num_actv_rev_tl    dti  fico_range_low  funded_amnt  int_rate  grade  \\\n",
       "0              6.0  17.74           820.0      16000.0      7.07    0.0   \n",
       "1              3.0   6.99           700.0       4500.0     10.42    1.0   \n",
       "2             10.0  28.94           675.0      20000.0      9.99    1.0   \n",
       "3             13.0  17.69           660.0      30000.0     19.99    3.0   \n",
       "4              3.0   9.70           675.0       6025.0      8.46    0.0   \n",
       "\n",
       "   emp_title  annual_inc  verification_status_Not Verified  \\\n",
       "0 -33.819993     65000.0                              True   \n",
       "1 -19.626818     50000.0                              True   \n",
       "2 -11.726184     60000.0                             False   \n",
       "3 -30.077115     65000.0                             False   \n",
       "4 -21.393000     50000.0                             False   \n",
       "\n",
       "   verification_status_Source Verified  ...  collections_12_mths_ex_med  \\\n",
       "0                                False  ...                         0.0   \n",
       "1                                False  ...                         0.0   \n",
       "2                                 True  ...                         0.0   \n",
       "3                                False  ...                         0.0   \n",
       "4                                 True  ...                         0.0   \n",
       "\n",
       "   spline_segment_1  spline_segment_2  spline_segment_3  spline_segment_4  \\\n",
       "0               1.0               0.2               0.0               0.0   \n",
       "1               1.0               0.6               0.4               0.0   \n",
       "2               1.0               0.6               0.4               0.0   \n",
       "3               1.0               0.0               0.0               0.4   \n",
       "4               1.0               0.8               0.0               0.0   \n",
       "\n",
       "   spline_segment_5  spline_segment_6  spline_segment_7    irr     target  \n",
       "0               0.0               0.0               0.0 -26.21 -27.885864  \n",
       "1               0.0               0.0               0.0  10.94   9.461522  \n",
       "2               0.0               0.0               0.0  10.46   9.450318  \n",
       "3               0.6               0.0               0.0 -38.15 -39.139500  \n",
       "4               0.0               0.0               0.0   8.80   5.861043  \n",
       "\n",
       "[5 rows x 52 columns]"
      ]
     },
     "execution_count": 62,
     "metadata": {},
     "output_type": "execute_result"
    }
   ],
   "source": [
    "train_path = Path(\"./train.csv\")\n",
    "test_path  = Path(\"./test.csv\")\n",
    "\n",
    "train_df = pd.read_csv(train_path)\n",
    "test_df  = pd.read_csv(test_path)\n",
    "\n",
    "print(\"Train shape:\", train_df.shape)\n",
    "print(\"Test  shape:\", test_df.shape)\n",
    "train_df.head()"
   ]
  },
  {
   "cell_type": "markdown",
   "id": "d34c1f39-90fc-4231-aeb6-f1aca28b8a74",
   "metadata": {},
   "source": [
    "### 3. Taget Encoding"
   ]
  },
  {
   "cell_type": "code",
   "execution_count": 64,
   "id": "3845e480-bd0b-45b5-b1fa-c27f6b2f5de1",
   "metadata": {},
   "outputs": [],
   "source": [
    "TARGET_COL = \"target\"  # 타깃 열 이름이 다르면 수정\n",
    "label_encoder = LabelEncoder()\n",
    "train_df[TARGET_COL] = label_encoder.fit_transform(train_df[TARGET_COL])\n",
    "# fit(): TARGET_COL에 등장하는 고유 문자열 라벨을 사전식 순으로 정렬해 classes_에 저장\n",
    "# transform(): 각 원소를 해당 인덱스(0부터 시작하는 정수)로 매핑"
   ]
  },
  {
   "cell_type": "markdown",
   "id": "bdaa1160-2be3-4fc7-8b74-774a554f4fef",
   "metadata": {},
   "source": [
    "### 4. 결측치, 범주형 처리 파이프라인"
   ]
  },
  {
   "cell_type": "code",
   "execution_count": 66,
   "id": "e0b54fff-8804-4b3a-9aa9-13954f150370",
   "metadata": {},
   "outputs": [],
   "source": [
    "# train_df의 모든 열 가운데 타깃 열을 제외한 나머지 열 이름을 리스트로 수집\n",
    "feature_cols = [c for c in train_df.columns if c != TARGET_COL]\n",
    "\n",
    "# 숫자형 열 추출 -> 선택된 열 이름을 파이썬 리스트로 변환\n",
    "numeric_cols = train_df[feature_cols].select_dtypes(\n",
    "    include=['number', 'bool']).columns.tolist() \n",
    "\n",
    "# 범주형 열 추출\n",
    "categorical_cols = [c for c in feature_cols if c not in numeric_cols]\n",
    "\n",
    "# 숫자형 전처리기: 결측치 -> 평균\n",
    "numeric_transformer = Pipeline(steps=[ # Pipeline(): 여러 전처리 단계를 순차적으로 묶어 하나의 객체처럼 사용하게 해주는 class\n",
    "    (\"imputer\", SimpleImputer(strategy=\"mean\")) # 결측치(NA, NaN)를 해당 열의 평균값으로 대체하는 전처리기\n",
    "])\n",
    "# 0으로 대체하고 싶을 때는, SimpleImputer(strategy=\"constant\", fill_value=0)\n",
    "\n",
    "# 범주형 전처리기: 결측값 -> 최반값 대체 -> 원-핫 인코딩 \n",
    "categorical_transformer = Pipeline(steps=[\n",
    "    (\"imputer\", SimpleImputer(strategy=\"most_frequent\")),\n",
    "    (\"onehot\",  OneHotEncoder(handle_unknown=\"ignore\"))\n",
    "])\n",
    "\n",
    "# 열별 전처리 매핑\n",
    "preprocessor = ColumnTransformer(\n",
    "    transformers=[\n",
    "        (\"num\", numeric_transformer, numeric_cols),\n",
    "        (\"cat\", categorical_transformer, categorical_cols)\n",
    "    ]\n",
    ")"
   ]
  },
  {
   "cell_type": "markdown",
   "id": "9344a545-508c-4179-9e55-d9fe47bcc292",
   "metadata": {},
   "source": [
    "### 5. 학습 / 검증 데이터 분할(8:2)"
   ]
  },
  {
   "cell_type": "code",
   "execution_count": 68,
   "id": "5490c4d6-6d52-4ed9-89ff-bc05e95ee36a",
   "metadata": {},
   "outputs": [],
   "source": [
    "X = train_df[feature_cols]\n",
    "y = train_df[TARGET_COL]\n",
    "\n",
    "X_train, X_val, y_train, y_val = train_test_split(\n",
    "    X, y, test_size=0.2, random_state=RANDOM_STATE #,stratify=y\n",
    ")"
   ]
  },
  {
   "cell_type": "markdown",
   "id": "55b6267d-b7a3-42da-a222-ebfeee66709d",
   "metadata": {},
   "source": [
    "### 6. XGBoost 모델"
   ]
  },
  {
   "cell_type": "code",
   "execution_count": 75,
   "id": "8455f000-bf6f-49bd-8810-6b71ee6157ce",
   "metadata": {},
   "outputs": [],
   "source": [
    "xgb_params = {\n",
    "    \"objective\":       \"reg:squarederror\",\n",
    "    \"eval_metric\":     \"rmse\",\n",
    "    \"tree_method\":     \"exact\",\n",
    "    \"learning_rate\":   0.08,\n",
    "    \"n_estimators\":    400,\n",
    "    \"max_depth\":       3,\n",
    "    \"gamma\":           0.1,\n",
    "    \"subsample\":       0.9,\n",
    "    \"colsample_bytree\":0.9,\n",
    "    \"reg_lambda\":      3, # L2 정규화\n",
    "    \"random_state\":    RANDOM_STATE,\n",
    "}\n",
    "\n",
    "model = XGBRegressor(**xgb_params)\n",
    "\n",
    "# EarlyStopping 콜백: 100라운드 동안 개선 없으면 멈추고, 최고 모델 저장\n",
    "es_cb = EarlyStopping(\n",
    "    rounds=100,\n",
    "    metric_name=\"rmse\",  # eval_metric과 동일\n",
    "    save_best=True\n",
    ")\n",
    "\n",
    "pipe = Pipeline(steps=[\n",
    "    (\"preprocess\", preprocessor),\n",
    "    (\"model\", model)\n",
    "])"
   ]
  },
  {
   "cell_type": "markdown",
   "id": "4e742921-fb53-49d9-a3c7-9c71994ceb00",
   "metadata": {},
   "source": [
    "### 7. 학습(Early Stopping)"
   ]
  },
  {
   "cell_type": "code",
   "execution_count": 78,
   "id": "bf91d38b-bcb5-41db-b7fc-380eaf4912a7",
   "metadata": {},
   "outputs": [
    {
     "ename": "TypeError",
     "evalue": "XGBModel.fit() got an unexpected keyword argument 'callbacks'",
     "output_type": "error",
     "traceback": [
      "\u001b[31m---------------------------------------------------------------------------\u001b[39m",
      "\u001b[31mTypeError\u001b[39m                                 Traceback (most recent call last)",
      "\u001b[36mCell\u001b[39m\u001b[36m \u001b[39m\u001b[32mIn[78]\u001b[39m\u001b[32m, line 1\u001b[39m\n\u001b[32m----> \u001b[39m\u001b[32m1\u001b[39m pipe.fit(\n\u001b[32m      2\u001b[39m     X_train, y_train,\n\u001b[32m      3\u001b[39m     model__eval_set=[(X_val, y_val)],\n\u001b[32m      4\u001b[39m     model__verbose=\u001b[38;5;28;01mFalse\u001b[39;00m,\n\u001b[32m      5\u001b[39m     model__callbacks=[es_cb]\n\u001b[32m      6\u001b[39m )\n\u001b[32m      8\u001b[39m val_pred = pipe.predict(X_val)\n\u001b[32m      9\u001b[39m rmse = mean_squared_error(y_val, val_pred, squared=\u001b[38;5;28;01mFalse\u001b[39;00m)\n",
      "\u001b[36mFile \u001b[39m\u001b[32m~/miniconda3/lib/python3.12/site-packages/sklearn/base.py:1389\u001b[39m, in \u001b[36m_fit_context.<locals>.decorator.<locals>.wrapper\u001b[39m\u001b[34m(estimator, *args, **kwargs)\u001b[39m\n\u001b[32m   1382\u001b[39m     estimator._validate_params()\n\u001b[32m   1384\u001b[39m \u001b[38;5;28;01mwith\u001b[39;00m config_context(\n\u001b[32m   1385\u001b[39m     skip_parameter_validation=(\n\u001b[32m   1386\u001b[39m         prefer_skip_nested_validation \u001b[38;5;129;01mor\u001b[39;00m global_skip_validation\n\u001b[32m   1387\u001b[39m     )\n\u001b[32m   1388\u001b[39m ):\n\u001b[32m-> \u001b[39m\u001b[32m1389\u001b[39m     \u001b[38;5;28;01mreturn\u001b[39;00m fit_method(estimator, *args, **kwargs)\n",
      "\u001b[36mFile \u001b[39m\u001b[32m~/miniconda3/lib/python3.12/site-packages/sklearn/pipeline.py:662\u001b[39m, in \u001b[36mPipeline.fit\u001b[39m\u001b[34m(self, X, y, **params)\u001b[39m\n\u001b[32m    656\u001b[39m     \u001b[38;5;28;01mif\u001b[39;00m \u001b[38;5;28mself\u001b[39m._final_estimator != \u001b[33m\"\u001b[39m\u001b[33mpassthrough\u001b[39m\u001b[33m\"\u001b[39m:\n\u001b[32m    657\u001b[39m         last_step_params = \u001b[38;5;28mself\u001b[39m._get_metadata_for_step(\n\u001b[32m    658\u001b[39m             step_idx=\u001b[38;5;28mlen\u001b[39m(\u001b[38;5;28mself\u001b[39m) - \u001b[32m1\u001b[39m,\n\u001b[32m    659\u001b[39m             step_params=routed_params[\u001b[38;5;28mself\u001b[39m.steps[-\u001b[32m1\u001b[39m][\u001b[32m0\u001b[39m]],\n\u001b[32m    660\u001b[39m             all_params=params,\n\u001b[32m    661\u001b[39m         )\n\u001b[32m--> \u001b[39m\u001b[32m662\u001b[39m         \u001b[38;5;28mself\u001b[39m._final_estimator.fit(Xt, y, **last_step_params[\u001b[33m\"\u001b[39m\u001b[33mfit\u001b[39m\u001b[33m\"\u001b[39m])\n\u001b[32m    664\u001b[39m \u001b[38;5;28;01mreturn\u001b[39;00m \u001b[38;5;28mself\u001b[39m\n",
      "\u001b[36mFile \u001b[39m\u001b[32m~/miniconda3/lib/python3.12/site-packages/xgboost/core.py:729\u001b[39m, in \u001b[36mrequire_keyword_args.<locals>.throw_if.<locals>.inner_f\u001b[39m\u001b[34m(*args, **kwargs)\u001b[39m\n\u001b[32m    727\u001b[39m \u001b[38;5;28;01mfor\u001b[39;00m k, arg \u001b[38;5;129;01min\u001b[39;00m \u001b[38;5;28mzip\u001b[39m(sig.parameters, args):\n\u001b[32m    728\u001b[39m     kwargs[k] = arg\n\u001b[32m--> \u001b[39m\u001b[32m729\u001b[39m \u001b[38;5;28;01mreturn\u001b[39;00m func(**kwargs)\n",
      "\u001b[31mTypeError\u001b[39m: XGBModel.fit() got an unexpected keyword argument 'callbacks'"
     ]
    }
   ],
   "source": [
    "pipe.fit(\n",
    "    X_train, y_train,\n",
    "    model__eval_set=[(X_val, y_val)],\n",
    "    model__verbose=False,\n",
    "    model__callbacks=[es_cb]\n",
    ")\n",
    "\n",
    "val_pred = pipe.predict(X_val)\n",
    "rmse = mean_squared_error(y_val, val_pred, squared=False)\n",
    "print(f\"Validation RMSE: {rmse:.4f}\")"
   ]
  },
  {
   "cell_type": "markdown",
   "id": "3de34842-7da9-418d-84a8-54ae62bf0a59",
   "metadata": {},
   "source": [
    "### 8. 모델 저장"
   ]
  },
  {
   "cell_type": "code",
   "execution_count": null,
   "id": "f78ab07d-5af0-4612-907e-bd8da0163e6e",
   "metadata": {},
   "outputs": [],
   "source": [
    "joblib.dump(pipe, \"best_model.h5\")\n",
    "print(\"✅ best_model.h5 저장 완료\")"
   ]
  },
  {
   "cell_type": "markdown",
   "id": "e08f4e11-47ed-4a0e-9a13-35713f1b3511",
   "metadata": {},
   "source": [
    "### 9. 테스트 데이터 예측 & CSV 저장"
   ]
  },
  {
   "cell_type": "code",
   "execution_count": null,
   "id": "0dd5279f-2a49-47bd-a783-342b99f30860",
   "metadata": {},
   "outputs": [],
   "source": [
    "loaded_model = joblib.load(\"best_model.h5\")\n",
    "test_pred = loaded_model.predict(test_df[feature_cols])\n",
    "test_df[\"predict\"] = np.clip(test_pred, 0, 1)  # 0~1 범위 클리핑\n",
    "test_df.to_csv(\"test_with_pred.csv\", index=False)\n",
    "print(\"📄 test_with_pred.csv 저장 완료\")\n",
    "display(test_df.head())"
   ]
  },
  {
   "cell_type": "code",
   "execution_count": null,
   "id": "363675f3-573b-4703-985a-20bae54965ab",
   "metadata": {},
   "outputs": [],
   "source": []
  },
  {
   "cell_type": "code",
   "execution_count": null,
   "id": "43f3a715-f15a-489c-8865-f0cdbd441bbb",
   "metadata": {},
   "outputs": [],
   "source": []
  },
  {
   "cell_type": "code",
   "execution_count": null,
   "id": "cf2c8ed3-23f1-4ff9-99fd-4dac3e62c5b5",
   "metadata": {},
   "outputs": [],
   "source": []
  },
  {
   "cell_type": "code",
   "execution_count": null,
   "id": "ba6d0af1-66c4-4755-bd04-72dae2c25e2f",
   "metadata": {},
   "outputs": [],
   "source": []
  },
  {
   "cell_type": "code",
   "execution_count": null,
   "id": "74c439da-4ec7-4f53-ad5b-f8a5da7fb521",
   "metadata": {},
   "outputs": [],
   "source": []
  },
  {
   "cell_type": "code",
   "execution_count": null,
   "id": "f31b364b-c828-4308-b39b-ba016f3f9446",
   "metadata": {},
   "outputs": [],
   "source": []
  },
  {
   "cell_type": "code",
   "execution_count": null,
   "id": "6f3db9c1-c27f-4424-8fea-15d66799e80d",
   "metadata": {},
   "outputs": [],
   "source": []
  }
 ],
 "metadata": {
  "kernelspec": {
   "display_name": "Python [conda env:base]",
   "language": "python",
   "name": "conda-base-py"
  },
  "language_info": {
   "codemirror_mode": {
    "name": "ipython",
    "version": 3
   },
   "file_extension": ".py",
   "mimetype": "text/x-python",
   "name": "python",
   "nbconvert_exporter": "python",
   "pygments_lexer": "ipython3",
   "version": "3.12.7"
  }
 },
 "nbformat": 4,
 "nbformat_minor": 5
}
